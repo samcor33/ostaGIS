{
 "cells": [
  {
   "cell_type": "markdown",
   "metadata": {},
   "source": [
    "# 1) Create Overlapping Organization Layer"
   ]
  },
  {
   "cell_type": "code",
   "execution_count": 61,
   "metadata": {},
   "outputs": [
    {
     "name": "stdout",
     "output_type": "stream",
     "text": [
      "Many-to-many replication completed!\n"
     ]
    }
   ],
   "source": [
    "# All credit for this code goes to ChatGPT\n",
    "\n",
    "import arcpy\n",
    "\n",
    "# Inputs\n",
    "countries_fc = r\"C:\\GIS\\ArcGIS\\Projects\\Worlwide_Threat_Analysis\\t_orgs_aor.gdb\\test\"\n",
    "iso_table = r\"C:\\GIS\\ArcGIS\\Projects\\Worlwide_Threat_Analysis\\Worlwide_Threat_Analysis.gdb\\wfb_t_orgs_geolocated\"\n",
    "output_fc = r\"C:\\GIS\\ArcGIS\\Projects\\Worlwide_Threat_Analysis\\t_orgs_aor.gdb\\countries_multiplied\"\n",
    "\n",
    "# Fields to join on\n",
    "countries_join_field = \"ISO_CC\"\n",
    "table_join_field = \"country_aor\"\n",
    "\n",
    "# Fields to copy from countries (geometry + attributes)\n",
    "countries_fields = [f.name for f in arcpy.ListFields(countries_fc) if f.type != 'Geometry']\n",
    "\n",
    "# Fields to copy from table (attributes only, no geometry)\n",
    "table_fields = [f.name for f in arcpy.ListFields(iso_table) if f.type != 'Geometry']\n",
    "\n",
    "# Full list of output fields (all from countries + all from table)\n",
    "output_fields = countries_fields + table_fields + ['SHAPE@']\n",
    "\n",
    "# Create output feature class, copying schema from countries_fc\n",
    "arcpy.CreateFeatureclass_management(\n",
    "    out_path=arcpy.env.workspace,\n",
    "    out_name=\"countries_multiplied\",#arcpy.Describe(output_fc).name,\n",
    "    geometry_type=arcpy.Describe(countries_fc).shapeType,\n",
    "    template=countries_fc,\n",
    "    spatial_reference=arcpy.Describe(countries_fc).spatialReference\n",
    ")\n",
    "\n",
    "# Add fields from the table to output_fc (if they don’t already exist)\n",
    "existing_fields = [f.name for f in arcpy.ListFields(output_fc)]\n",
    "for fld in table_fields:\n",
    "    if fld not in existing_fields:\n",
    "        field_obj = arcpy.ListFields(iso_table, fld)[0]\n",
    "        arcpy.AddField_management(output_fc, fld, field_obj.type, \n",
    "                                  field_obj.precision, field_obj.scale, field_obj.length)\n",
    "\n",
    "# Build a dict mapping ISO code -> list of table records\n",
    "table_dict = {}\n",
    "with arcpy.da.SearchCursor(iso_table, table_fields + [table_join_field]) as cursor:\n",
    "    for row in cursor:\n",
    "        # last field is the join key value\n",
    "        join_val = row[-1]\n",
    "        if join_val is None:\n",
    "            continue\n",
    "        rec_attrs = row[:-1]  # all other fields\n",
    "        table_dict.setdefault(join_val, []).append(rec_attrs)\n",
    "\n",
    "# Now open insert cursor to output_fc\n",
    "with arcpy.da.SearchCursor(countries_fc, countries_fields + ['SHAPE@']) as country_cursor, \\\n",
    "     arcpy.da.InsertCursor(output_fc, output_fields) as insert_cursor:\n",
    "    for country_row in country_cursor:\n",
    "        country_code = country_row[countries_fields.index(countries_join_field)]\n",
    "        if country_code in table_dict:\n",
    "            for tbl_attrs in table_dict[country_code]:\n",
    "                # Combine country and table attributes plus geometry\n",
    "                out_row = list(country_row[:-1]) + list(tbl_attrs) + [country_row[-1]]\n",
    "                insert_cursor.insertRow(out_row)\n",
    "\n",
    "print(\"Many-to-many replication completed!\")"
   ]
  },
  {
   "cell_type": "markdown",
   "metadata": {},
   "source": [
    "# 2) Take all combined AORs and split them into separate feature classes by \"t_org\""
   ]
  },
  {
   "cell_type": "code",
   "execution_count": null,
   "metadata": {},
   "outputs": [],
   "source": [
    "#2) Take all combined AORs and split them into separate feature classes by \"t_org\"\n",
    "\n",
    "# Get table with t_orgs and ISO3 codes\n",
    "iso_table = r\"C:\\GIS\\ArcGIS\\Projects\\Worlwide_Threat_Analysis\\Worlwide_Threat_Analysis.gdb\\wfb_t_orgs_geolocated\"\n",
    "# Name of tabel to be created\n",
    "out_tab = r\"C:\\GIS\\ArcGIS\\Projects\\Worlwide_Threat_Analysis\\Worlwide_Threat_Analysis.gdb\\t_orgs_aor_count\"\n",
    "# Run states to get count and name of each t_org\n",
    "arcpy.analysis.Statistics(iso_table, out_tab, [[\"index\", \"COUNT\"]], case_field='index')\n",
    "\n",
    "aprx = arcpy.mp.ArcGISProject(\"CURRENT\")\n",
    "\n",
    "# Get fc with combined t_org AORs...and...t_org count table\n",
    "mult_fc = r\"C:\\GIS\\ArcGIS\\Projects\\Worlwide_Threat_Analysis\\t_orgs_aor.gdb\\countries_multiplied\"\n",
    "t_orgs_table = r\"C:\\GIS\\ArcGIS\\Projects\\Worlwide_Threat_Analysis\\Worlwide_Threat_Analysis.gdb\\t_orgs_aor_count\"\n",
    "\n",
    "# Feature layer \"countries_multiplied\" must be in map\n",
    "mult_lyr = aprx.activeMap.listLayers('countries_multiplied')\n",
    "# Get the names of each t_org from table and put in list\n",
    "t_os_names_arr = arcpy.da.TableToNumPyArray(t_orgs_table, ['index'])\n",
    "\n",
    "# Create Feature Dataset named \"t_org_individual\" to store the individual Feature Classes\n",
    "arcpy.management.CreateFeatureDataset(\n",
    "    out_dataset_path=r\"C:\\GIS\\ArcGIS\\Projects\\Worlwide_Threat_Analysis\\t_orgs_aor.gdb\",\n",
    "    out_name=\"t_org_individual\"\n",
    ")\n",
    "\n",
    "# Run a loop for the entirety of the list of t_orgs\n",
    "i = -1\n",
    "while i < len(t_os_names_arr) - 1:\n",
    "    i = i + 1\n",
    "    \n",
    "    # Clean t_org strs to remove forbidden characters\n",
    "    fc_name = t_os_names_arr[i][0].replace(\" \", \"_\").replace(\"'\", \"_\").replace(\"(\", \"\").replace(\")\", \"\").replace(\"-\", \"_\").replace(\"/\", \"_\").replace(\"’\", \"_\").replace(\"–\", \"_\").replace(\",\", \"\")\n",
    "    \n",
    "    # Export Feature Class based on matching #s in \"Field1\" (number associated with the t_org name)\n",
    "    arcpy.conversion.ExportFeatures(\n",
    "        in_features = mult_fc,\n",
    "        out_features = f\"C:\\\\GIS\\ArcGIS\\\\Projects\\\\Worlwide_Threat_Analysis\\\\t_orgs_aor.gdb\\\\t_org_individual\\\\{fc_name}\",\n",
    "        where_clause = f\"Field1 = {i}\"\n",
    "    )\n",
    "    # Name of newley created layer\n",
    "    new_lyr = aprx.activeMap.listLayers(fc_name)\n",
    "    \n",
    "    # Delete newly created layer to save space in the \"Contents\" pane\n",
    "    arcpy.Delete_management(new_lyr)\n",
    "\n",
    "print('Mapping Complete')"
   ]
  },
  {
   "cell_type": "markdown",
   "metadata": {},
   "source": [
    "# 3) Apply style to all layers in group"
   ]
  },
  {
   "cell_type": "code",
   "execution_count": null,
   "metadata": {},
   "outputs": [],
   "source": [
    "aprx = arcpy.mp.ArcGISProject(\"CURRENT\")\n",
    "\n",
    "# get the current map\n",
    "m = aprx.activeMap\n",
    "\n",
    "# individual org layers must be grouped as \"t_org_individual\"\n",
    "# find all layers in map\n",
    "lyrs = m.listLayers()\n",
    "\n",
    "# find the grouped layers in group \"t_org_individual\"\n",
    "for gp_lyr in lyrs:\n",
    "    if gp_lyr.name == \"t_org_individual\":\n",
    "        gpd_lyrs = gp_lyr.listLayers()\n",
    "        \n",
    "        # run loop counting the total of layers in the group\n",
    "        i = -1\n",
    "        while i < len(gpd_lyrs) -1 :\n",
    "            i = i + 1\n",
    "            \n",
    "            # get the symbology for each layer\n",
    "            symbology = gpd_lyrs[i].symbology\n",
    "\n",
    "            if hasattr(symbology, \"renderer\"):\n",
    "                symbology.updateRenderer(\"SimpleRenderer\")\n",
    "            # update symbology to style named \"t_org_aor\"\n",
    "                symbology.renderer.symbol.applySymbolFromGallery(\"t_org_aor\")\n",
    "                gpd_lyrs[i].symbology = symbology  # Apply changes\n"
   ]
  }
 ],
 "metadata": {
  "kernelspec": {
   "display_name": "ArcGISPro",
   "language": "python",
   "name": "python3"
  },
  "language_info": {
   "file_extension": ".py",
   "mimetype": "text/x-python",
   "name": "python",
   "version": "3.11.10"
  }
 },
 "nbformat": 4,
 "nbformat_minor": 4
}
