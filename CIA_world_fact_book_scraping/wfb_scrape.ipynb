{
 "cells": [
  {
   "cell_type": "markdown",
   "id": "cf5f111c-9f07-4d22-b073-b2dde4c713f3",
   "metadata": {},
   "source": [
    "## Scrape WFB country links from saved HTML and geolocate using coco"
   ]
  },
  {
   "cell_type": "code",
   "execution_count": 7,
   "id": "381ead9b-e10b-4d04-a161-19dd43ca5936",
   "metadata": {},
   "outputs": [
    {
     "name": "stderr",
     "output_type": "stream",
     "text": [
      "akrotiri-and-dhekelia not found in regex\n",
      "ashmore-and-cartier-islands not found in regex\n",
      "cabo-verde not found in regex\n",
      "clipperton-island not found in regex\n",
      "congo-republic-of-the not found in regex\n",
      "coral-sea-islands not found in regex\n",
      "european-union not found in regex\n",
      "jan-mayen not found in regex\n",
      "navassa-island not found in regex\n",
      "paracel-islands not found in regex\n",
      "spratly-islands not found in regex\n",
      "virgin-islands not found in regex\n",
      "wake-island not found in regex\n",
      "world not found in regex\n",
      "not found not found in regex\n"
     ]
    }
   ],
   "source": [
    "import pandas as pd\n",
    "import country_converter as coco\n",
    "from selenium import webdriver\n",
    "from selenium.webdriver.chrome.service import Service\n",
    "from webdriver_manager.chrome import ChromeDriverManager\n",
    "from selenium.webdriver.common.by import By\n",
    "import time\n",
    "\n",
    "# Set up the driver\n",
    "options = webdriver.ChromeOptions()\n",
    "options.add_argument('--headless')  # Run in headless mode (no UI)\n",
    "driver = webdriver.Chrome(service=Service(ChromeDriverManager().install()), options=options)\n",
    "\n",
    "# Saved HTML - ran into issues when trying to scrape directly from the CIA webiste\n",
    "url = \"C:\\\\Users\\\\samco\\\\OneDrive\\\\Desktop\\\\OSINT\\\\saved_web_pages\\\\CIA_wfb.html\"\n",
    "\n",
    "driver.get(url)\n",
    "time.sleep(2)  # Give time for the page to load\n",
    "\n",
    "wfb_country_links = [] # Stores each link\n",
    "\n",
    "content = driver.find_elements(By.TAG_NAME, \"a\")\n",
    "for a in content:\n",
    "    # Replace \"file:///C:/\" with the CIA url to make the \"href\" url valid an clickable\n",
    "    wfb_country_links.append(a.get_attribute(\"href\").replace(\"file:///C:/\", \"https://www.cia.gov/\"))\n",
    "    \n",
    "driver.quit()\n",
    "\n",
    "#Create DataFrame using pandas\n",
    "wfb_df = pd.DataFrame(wfb_country_links)\n",
    "## wfb_link.to_csv(\"C:\\\\Users\\\\samco\\\\OneDrive\\\\Desktop\\\\OSINT\\\\wfb_country_links.csv\", index=False) ## Export plain country links to CSV\n",
    "\n",
    "#Split link into new df\n",
    "wfb_df_coded = wfb_df[0].str.split(\"/\", expand=True)\n",
    "#Get country name from split link\n",
    "wfb_df_country = wfb_df_coded[5]\n",
    "\n",
    "cc = coco.CountryConverter()\n",
    "#Compare country with coco and create column with matched country\n",
    "country_names = cc.pandas_convert(wfb_df_country, to='short_name')\n",
    "wfb_df_coded['country'] = country_names\n",
    "\n",
    "#Get ISO3 Code with coco based off of the matched country\n",
    "iso3_codes = cc.pandas_convert(wfb_df_coded['country'], to='ISO3')\n",
    "wfb_df_coded['ISO3_CODE'] = iso3_codes\n",
    "\n",
    "#Merge split link data with original link df...then drop & rename columns\n",
    "wfb_coded = wfb_df.merge(wfb_df_coded, left_index=True, right_index=True).drop(columns=[\"0_y\",\t1,\t2,\t3,\t4, 6]).rename(columns={\"0_x\": \"wfb_country_link\", 5: \"wfb_country_name\"})\n",
    "\n",
    "#Create two separate dfs...one without coded links and one with the coded links\n",
    "wfb_code_not_found = wfb_coded[wfb_coded['country'] == \"not found\"].drop_duplicates().reset_index().drop(columns=\"index\")\n",
    "wfb_coded = wfb_coded[wfb_coded['country'] != \"not found\"].drop_duplicates().reset_index().drop(columns=\"index\")\n",
    "\n",
    "# Dataset of locations not found thru coco...(i.e., place.drop_duplicates()s, not official countries)\n",
    "wfb_code_not_found.to_csv(\"C:\\\\Users\\\\samco\\\\OneDrive\\\\Desktop\\\\OSINT\\\\Complete_datasets\\\\wfb_countries_no_code.csv\")\n",
    "\n",
    "# Dataset of goelocated World Fact Book links\n",
    "wfb_coded.to_csv(\"C:\\\\Users\\\\samco\\\\OneDrive\\\\Desktop\\\\OSINT\\\\Complete_datasets\\\\wfb_countries_coded.csv\")\n",
    "\n",
    "# Ignore \"...not found in regex\"...that is normal for all words not matching a coco regex match"
   ]
  }
 ],
 "metadata": {
  "kernelspec": {
   "display_name": "Python 3 (ipykernel)",
   "language": "python",
   "name": "python3"
  },
  "language_info": {
   "codemirror_mode": {
    "name": "ipython",
    "version": 3
   },
   "file_extension": ".py",
   "mimetype": "text/x-python",
   "name": "python",
   "nbconvert_exporter": "python",
   "pygments_lexer": "ipython3",
   "version": "3.12.7"
  }
 },
 "nbformat": 4,
 "nbformat_minor": 5
}
