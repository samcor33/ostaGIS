{
 "cells": [
  {
   "cell_type": "markdown",
   "id": "e9a78311-e104-4be2-8063-7d7be75c7206",
   "metadata": {},
   "source": [
    "# Create geolocated (ISO3) t_org table from saved HTML"
   ]
  },
  {
   "cell_type": "markdown",
   "id": "e9eca6b9-dc52-4bc6-aa7a-99abea205172",
   "metadata": {},
   "source": [
    "### Parse and build dataframe"
   ]
  },
  {
   "cell_type": "code",
   "execution_count": 210,
   "id": "d1982c7d-7523-44bc-9cf6-7c1111d584dc",
   "metadata": {},
   "outputs": [],
   "source": [
    "from bs4 import BeautifulSoup, NavigableString\n",
    "import pandas as pd\n",
    "import country_converter as coco\n",
    "\n",
    "# Must save the html as a file\n",
    "saved_html = r\"C:/Users/samco/OneDrive/Desktop/OSINT/saved_web_pages/CIA_t_o.html\"\n",
    "wfb_tos = {}\n",
    "\n",
    "# Open the HTML file\n",
    "with open(saved_html, 'r', encoding='utf-8') as file:\n",
    "    html_content = file.read()\n",
    "\n",
    "# Parse the HTML content\n",
    "soup = BeautifulSoup(html_content, 'html.parser')\n",
    "\n",
    "# Find div elements labeled \"pb30\" which hold the information for each t_org\n",
    "sections = soup.find_all('div', attrs={\"class\":\"pb30\"})\n",
    "\n",
    "# Extract information (example: all paragraph tags)\n",
    "for s in sections:    \n",
    "    titles = s.find_all(\"h2\") # Title(name) of t_org\n",
    "    paragraphs = s.find_all('p') # p elements with t_org information\n",
    "\n",
    "    # Get each h2 element\n",
    "    for title in titles:\n",
    "\n",
    "        # Get information in each p element\n",
    "        for p in paragraphs:        \n",
    "            \n",
    "            # Find elements that contain \"areas of operation\" and split to extract the text to \"wfb_tos\" dict\n",
    "            if 'areas of operation' in p.text:\n",
    "                cat_l = \"area of operation\"\n",
    "                cat_t = p.text.split('areas of operation – ')[1]\n",
    "            \n",
    "                if title.text not in wfb_tos:\n",
    "                    wfb_tos[title.text] = {}\n",
    "                wfb_tos[title.text][cat_l] = cat_t\n",
    "                break\n",
    "\n",
    "            # Find elements that contain \"area(s) of operation\" and split to extract the text to \"wfb_tos\" dict\n",
    "            # This is due to variation in labeling from the CIA website\n",
    "            if 'area(s) of operation' in p.text:\n",
    "                cat_l = \"area of operation\"\n",
    "                cat_t = p.text.split('area(s) of operation – ')[1]\n",
    "            \n",
    "                if title.text not in wfb_tos:\n",
    "                    wfb_tos[title.text] = {}\n",
    "                wfb_tos[title.text][cat_l] = cat_t\n",
    "                break\n",
    "\n",
    "# Put \"wfb_tos\" into pandas dataframe\n",
    "tos_df = pd.DataFrame(wfb_tos).T.reset_index()"
   ]
  },
  {
   "cell_type": "markdown",
   "id": "cba737cc-0f34-408d-9c5e-03958d454d13",
   "metadata": {},
   "source": [
    "### Clean and geolocate using coco...then export"
   ]
  },
  {
   "cell_type": "code",
   "execution_count": null,
   "id": "90b2634f-bd17-4a22-8f4c-e32ddd1aa6b4",
   "metadata": {
    "scrolled": true
   },
   "outputs": [],
   "source": [
    "# Translator to remove/correct extraneous characters\n",
    "replacements = str.maketrans({\n",
    "    '–': '', \n",
    "    ',': '', \n",
    "    ';': '', \n",
    "    '.': '', \n",
    "    '(': '', \n",
    "    ')': '', \n",
    "    '-': ' '\n",
    "})\n",
    "\n",
    "tos_df['area of operation'] = tos_df['area of operation'].str.translate(replacements)\n",
    "# Add \"aor\" to start of text as identifier and first word to not match the coco regex for sorting purposes\n",
    "tos_df['area of operation'] = 'aor ' + tos_df['area of operation'] \n",
    "tos_df['country_aor'] = None\n",
    "\n",
    "aor_full = tos_df['area of operation'].fillna(\"N/A\")\n",
    "\n",
    "# country_converter\n",
    "cc = coco.CountryConverter()\n",
    "\n",
    "x = []\n",
    "i = -1\n",
    "while i < (len(aor_full) - 1):\n",
    "    i += 1\n",
    "\n",
    "    # Split text at every \" \"...then check the regex to find any countries matching in coco and use the ISO3 Code.\n",
    "    # Any words not matching a country is labeled \"AAAA\" for sorting and final data cleaning\n",
    "    mc = pd.Series(cc.convert(aor_full[i].split(), src=\"regex\", to=\"ISO3\", not_found='AAAA'))\n",
    "    \n",
    "    # Split text at every \" \" for comparison to coco matched column \"mc\"\n",
    "    og = pd.Series(aor_full[i].split())\n",
    "\n",
    "    # Combine \"mc\" and \"og\" for comparison\n",
    "    comb = pd.concat([og, mc], axis=1)\n",
    "\n",
    "    # Access the 2nd column (mc) and drop duplicated countries and all words labeled as \"AAAA\" to leave only a single \"AAAA\" and countries\n",
    "    aor = comb[1].drop_duplicates()\n",
    "\n",
    "    # Sort values alphabetically...remove \"aor[0]\" (i.e. \"AAAA\")...reset index...remove old index column...rename ISO3 Coded column as \"country_aor\"\n",
    "    caor = pd.DataFrame(aor)[1].sort_values().drop(0).reset_index().drop(columns='index').rename(columns={1: \"country_aor\"})\n",
    "    \n",
    "    # Turn \"country_aor\" into list to insert values into the \"tos_df\"\n",
    "    caor_l = caor['country_aor'].to_list()\n",
    "\n",
    "    # Replace empty tos_df[\"country_aor\"] values with ISO3 Codes from \"caor_l\" based on matching index number\n",
    "    tos_df.at[i, \"country_aor\"] = caor_l\n",
    "\n",
    "# Explode multiple countires within the tos_df[\"country_aor\"] column so every ISO3 Code is categprized solely to a t_org\n",
    "tos_df.explode('country_aor').to_csv(\"C:\\\\Users\\\\samco\\\\OneDrive\\\\Desktop\\\\OSINT\\\\Complete_datasets\\\\wfb_t_orgs_geolocated.csv\")\n",
    "\n",
    "# Ignore \"...not found in regex\"...that is normal for all words not matching a coco regex match"
   ]
  }
 ],
 "metadata": {
  "kernelspec": {
   "display_name": "Python 3 (ipykernel)",
   "language": "python",
   "name": "python3"
  },
  "language_info": {
   "codemirror_mode": {
    "name": "ipython",
    "version": 3
   },
   "file_extension": ".py",
   "mimetype": "text/x-python",
   "name": "python",
   "nbconvert_exporter": "python",
   "pygments_lexer": "ipython3",
   "version": "3.12.7"
  }
 },
 "nbformat": 4,
 "nbformat_minor": 5
}
